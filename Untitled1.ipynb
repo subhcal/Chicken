{
  "nbformat": 4,
  "nbformat_minor": 0,
  "metadata": {
    "colab": {
      "provenance": [],
      "authorship_tag": "ABX9TyO0h8wcjKntLbDJIfuoa8GX",
      "include_colab_link": true
    },
    "kernelspec": {
      "name": "python3",
      "display_name": "Python 3"
    },
    "language_info": {
      "name": "python"
    }
  },
  "cells": [
    {
      "cell_type": "markdown",
      "metadata": {
        "id": "view-in-github",
        "colab_type": "text"
      },
      "source": [
        "<a href=\"https://colab.research.google.com/github/subhcal/Chicken/blob/main/Untitled1.ipynb\" target=\"_parent\"><img src=\"https://colab.research.google.com/assets/colab-badge.svg\" alt=\"Open In Colab\"/></a>"
      ]
    },
    {
      "cell_type": "code",
      "execution_count": 1,
      "metadata": {
        "colab": {
          "base_uri": "https://localhost:8080/"
        },
        "id": "2eItGuZlfcvu",
        "outputId": "d5ab7342-84d1-4598-c712-22d58418e2f4"
      },
      "outputs": [
        {
          "output_type": "stream",
          "name": "stdout",
          "text": [
            "Original array:\n",
            " [[ 29   8  15]\n",
            " [ 40  49  99]\n",
            " [100  77  25]]\n",
            "Transposed array:\n",
            " [[ 29  40 100]\n",
            " [  8  49  77]\n",
            " [ 15  99  25]]\n"
          ]
        }
      ],
      "source": [
        "import numpy as np\n",
        "\n",
        "\n",
        "array = np.random.randint(1, 101, size=(3, 3))\n",
        "\n",
        "\n",
        "transposed_array = array.T\n",
        "\n",
        "\n",
        "print(\"Original array:\\n\", array)\n",
        "print(\"Transposed array:\\n\", transposed_array)\n"
      ]
    },
    {
      "cell_type": "code",
      "source": [
        "\n",
        "array_1d = np.arange(10)\n",
        "\n",
        "\n",
        "array_2x5 = array_1d.reshape(2, 5)\n",
        "\n",
        "\n",
        "array_5x2 = array_1d.reshape(5, 2)\n",
        "\n",
        "print(\"1D array:\\n\", array_1d)\n",
        "print(\"\\n2x5 array:\\n\", array_2x5)\n",
        "print(\"\\n5x2 array:\\n\", array_5x2)\n"
      ],
      "metadata": {
        "colab": {
          "base_uri": "https://localhost:8080/"
        },
        "id": "QutwnwCcgW96",
        "outputId": "11750b3f-bcfb-4363-e5c9-1a3e06382d50"
      },
      "execution_count": 2,
      "outputs": [
        {
          "output_type": "stream",
          "name": "stdout",
          "text": [
            "1D array:\n",
            " [0 1 2 3 4 5 6 7 8 9]\n",
            "\n",
            "2x5 array:\n",
            " [[0 1 2 3 4]\n",
            " [5 6 7 8 9]]\n",
            "\n",
            "5x2 array:\n",
            " [[0 1]\n",
            " [2 3]\n",
            " [4 5]\n",
            " [6 7]\n",
            " [8 9]]\n"
          ]
        }
      ]
    },
    {
      "cell_type": "code",
      "source": [
        "array_4x4 = np.random.randint(1, 101, size=(4, 4))\n",
        "\n",
        "\n",
        "array_6x6 = np.pad(array_4x4, pad_width=1, mode='constant', constant_values=0)\n",
        "\n",
        "\n",
        "print(\"Original 4x4 array:\\n\", array_4x4)\n",
        "print(\"\\n6x6 array with border of zeros:\\n\", array_6x6)\n"
      ],
      "metadata": {
        "colab": {
          "base_uri": "https://localhost:8080/"
        },
        "id": "HgxyKhy3gXLJ",
        "outputId": "532c869d-c0d3-47cb-b102-b520c0f26b4b"
      },
      "execution_count": 5,
      "outputs": [
        {
          "output_type": "stream",
          "name": "stdout",
          "text": [
            "Original 4x4 array:\n",
            " [[22 10 76 79]\n",
            " [ 8  3 52 65]\n",
            " [21 38  5 26]\n",
            " [93 67 14 34]]\n",
            "\n",
            "6x6 array with border of zeros:\n",
            " [[ 0  0  0  0  0  0]\n",
            " [ 0 22 10 76 79  0]\n",
            " [ 0  8  3 52 65  0]\n",
            " [ 0 21 38  5 26  0]\n",
            " [ 0 93 67 14 34  0]\n",
            " [ 0  0  0  0  0  0]]\n"
          ]
        }
      ]
    },
    {
      "cell_type": "code",
      "source": [
        "array = np.arange(10, 65, 5)\n",
        "\n",
        "\n",
        "print(array)\n"
      ],
      "metadata": {
        "colab": {
          "base_uri": "https://localhost:8080/"
        },
        "id": "kOhay3E8gpLh",
        "outputId": "a4444bcb-cea7-4644-bfd2-900ea5c81526"
      },
      "execution_count": 6,
      "outputs": [
        {
          "output_type": "stream",
          "name": "stdout",
          "text": [
            "[10 15 20 25 30 35 40 45 50 55 60]\n"
          ]
        }
      ]
    },
    {
      "cell_type": "code",
      "source": [
        "array = np.array(['python', 'numpy', 'pandas'])\n",
        "\n",
        "uppercase_array = np.char.upper(array)\n",
        "lowercase_array = np.char.lower(array)\n",
        "titlecase_array = np.char.title(array)\n",
        "capitalize_array = np.char.capitalize(array)\n",
        "\n",
        "\n",
        "print(\"Original array:\\n\", array)\n",
        "print(\"\\nUppercase:\\n\", uppercase_array)\n",
        "print(\"\\nLowercase:\\n\", lowercase_array)\n",
        "print(\"\\nTitle case:\\n\", titlecase_array)\n",
        "print(\"\\nCapitalize:\\n\", capitalize_array)\n"
      ],
      "metadata": {
        "colab": {
          "base_uri": "https://localhost:8080/"
        },
        "id": "7eyX-2ruhPnH",
        "outputId": "c343e64f-4001-44c9-84fb-2df650fe2602"
      },
      "execution_count": 7,
      "outputs": [
        {
          "output_type": "stream",
          "name": "stdout",
          "text": [
            "Original array:\n",
            " ['python' 'numpy' 'pandas']\n",
            "\n",
            "Uppercase:\n",
            " ['PYTHON' 'NUMPY' 'PANDAS']\n",
            "\n",
            "Lowercase:\n",
            " ['python' 'numpy' 'pandas']\n",
            "\n",
            "Title case:\n",
            " ['Python' 'Numpy' 'Pandas']\n",
            "\n",
            "Capitalize:\n",
            " ['Python' 'Numpy' 'Pandas']\n"
          ]
        }
      ]
    },
    {
      "cell_type": "code",
      "source": [
        "\n",
        "words_array = np.array(['hello', 'world', 'numpy'])\n",
        "\n",
        "spaced_array = np.char.join(' ', words_array)\n",
        "\n",
        "print(\"Original array:\\n\", words_array)\n",
        "print(\"\\nArray with spaces between characters:\\n\", spaced_array)\n"
      ],
      "metadata": {
        "colab": {
          "base_uri": "https://localhost:8080/"
        },
        "id": "dV8ZQK8QhPqQ",
        "outputId": "90b2a2e7-e710-444b-e2fe-bbc9dec5464f"
      },
      "execution_count": 8,
      "outputs": [
        {
          "output_type": "stream",
          "name": "stdout",
          "text": [
            "Original array:\n",
            " ['hello' 'world' 'numpy']\n",
            "\n",
            "Array with spaces between characters:\n",
            " ['h e l l o' 'w o r l d' 'n u m p y']\n"
          ]
        }
      ]
    },
    {
      "cell_type": "code",
      "source": [
        "array1 = np.array([[10, 20], [30, 40]])\n",
        "array2 = np.array([[1, 2], [3, 4]])\n",
        "\n",
        "addition = array1 + array2\n",
        "subtraction = array1 - array2\n",
        "multiplication = array1 * array2\n",
        "division = array1 / array2\n",
        "\n",
        "\n",
        "print(\"Array 1:\\n\", array1)\n",
        "print(\"\\nArray 2:\\n\", array2)\n",
        "print(\"\\nAddition:\\n\", addition)\n",
        "print(\"\\nSubtraction:\\n\", subtraction)\n",
        "print(\"\\nMultiplication:\\n\", multiplication)\n",
        "print(\"\\nDivision:\\n\", division)\n"
      ],
      "metadata": {
        "colab": {
          "base_uri": "https://localhost:8080/"
        },
        "id": "Z-FWeOKkhlT3",
        "outputId": "b58ec466-2f60-4f96-ff72-c05e4e92406d"
      },
      "execution_count": 9,
      "outputs": [
        {
          "output_type": "stream",
          "name": "stdout",
          "text": [
            "Array 1:\n",
            " [[10 20]\n",
            " [30 40]]\n",
            "\n",
            "Array 2:\n",
            " [[1 2]\n",
            " [3 4]]\n",
            "\n",
            "Addition:\n",
            " [[11 22]\n",
            " [33 44]]\n",
            "\n",
            "Subtraction:\n",
            " [[ 9 18]\n",
            " [27 36]]\n",
            "\n",
            "Multiplication:\n",
            " [[ 10  40]\n",
            " [ 90 160]]\n",
            "\n",
            "Division:\n",
            " [[10. 10.]\n",
            " [10. 10.]]\n"
          ]
        }
      ]
    },
    {
      "cell_type": "code",
      "source": [
        "\n",
        "identity_matrix = np.eye(5)\n",
        "\n",
        "diagonal_elements = np.diag(identity_matrix)\n",
        "\n",
        "print(\"5x5 Identity Matrix:\\n\", identity_matrix)\n",
        "print(\"\\nDiagonal Elements:\\n\", diagonal_elements)\n"
      ],
      "metadata": {
        "colab": {
          "base_uri": "https://localhost:8080/"
        },
        "id": "G6_iZS4DhlW2",
        "outputId": "2bb5fd9f-2a94-40e5-dcd5-758d1f0b716a"
      },
      "execution_count": 10,
      "outputs": [
        {
          "output_type": "stream",
          "name": "stdout",
          "text": [
            "5x5 Identity Matrix:\n",
            " [[1. 0. 0. 0. 0.]\n",
            " [0. 1. 0. 0. 0.]\n",
            " [0. 0. 1. 0. 0.]\n",
            " [0. 0. 0. 1. 0.]\n",
            " [0. 0. 0. 0. 1.]]\n",
            "\n",
            "Diagonal Elements:\n",
            " [1. 1. 1. 1. 1.]\n"
          ]
        }
      ]
    },
    {
      "cell_type": "code",
      "source": [
        "def is_prime(num):\n",
        "    if num < 2:\n",
        "        return False\n",
        "    for i in range(2, int(np.sqrt(num)) + 1):\n",
        "        if num % i == 0:\n",
        "            return False\n",
        "    return True\n",
        "\n",
        "random_integers = np.random.randint(0, 1001, size=100)\n",
        "\n",
        "prime_numbers = [num for num in random_integers if is_prime(num)]\n",
        "\n",
        "print(\"Random integers:\\n\", random_integers)\n",
        "print(\"\\nPrime numbers:\\n\", prime_numbers)\n"
      ],
      "metadata": {
        "colab": {
          "base_uri": "https://localhost:8080/"
        },
        "id": "-AJCiYkYil4i",
        "outputId": "325b9d74-4150-473e-b7fa-71ad52679844"
      },
      "execution_count": 11,
      "outputs": [
        {
          "output_type": "stream",
          "name": "stdout",
          "text": [
            "Random integers:\n",
            " [538 830 148 404 689 759 703 157 155 479  21 852 391 388 744 186 123 567\n",
            " 170 677 913 768 247 549 220 492 548 737 926 460 294 492 251 809 984 101\n",
            " 351 599 800 358  79 444 822 900 265 173 756 429 220 989  80  93 360 399\n",
            " 255 340 580 158 801 469 454 388 856  63 934 337 625 115 685 668 156 649\n",
            " 496 490 965 908 194 902 750 332 753 635 799 778 685   2 400 169 496 347\n",
            " 610 109 349 672 672 134 218 823 361 931]\n",
            "\n",
            "Prime numbers:\n",
            " [157, 479, 677, 251, 809, 101, 599, 79, 173, 337, 2, 347, 109, 349, 823]\n"
          ]
        }
      ]
    },
    {
      "cell_type": "code",
      "source": [
        "\n",
        "daily_temperatures = np.random.randint(15, 35, size=30)\n",
        "\n",
        "weeks = daily_temperatures[:28].reshape(4, 7)\n",
        "extra_days = daily_temperatures[28:]\n",
        "\n",
        "weekly_averages = np.mean(weeks, axis=1)\n",
        "\n",
        "print(\"Daily temperatures:\\n\", daily_temperatures)\n",
        "print(\"\\nWeekly temperatures (first 4 weeks):\\n\", weeks)\n",
        "print(\"\\nWeekly averages:\\n\", weekly_averages)\n",
        "\n",
        "if len(extra_days) > 0:\n",
        "    extra_days_avg = np.mean(extra_days)\n",
        "    print(\"\\nAverage for remaining days:\\n\", extra_days_avg)\n"
      ],
      "metadata": {
        "colab": {
          "base_uri": "https://localhost:8080/"
        },
        "id": "gtSQYnYGjN18",
        "outputId": "b112840b-9a34-49bd-dce8-8ade07de9d8b"
      },
      "execution_count": 12,
      "outputs": [
        {
          "output_type": "stream",
          "name": "stdout",
          "text": [
            "Daily temperatures:\n",
            " [33 32 17 32 19 23 23 17 25 20 27 34 27 16 24 34 30 27 28 17 15 17 30 29\n",
            " 18 19 19 25 34 17]\n",
            "\n",
            "Weekly temperatures (first 4 weeks):\n",
            " [[33 32 17 32 19 23 23]\n",
            " [17 25 20 27 34 27 16]\n",
            " [24 34 30 27 28 17 15]\n",
            " [17 30 29 18 19 19 25]]\n",
            "\n",
            "Weekly averages:\n",
            " [25.57142857 23.71428571 25.         22.42857143]\n",
            "\n",
            "Average for remaining days:\n",
            " 25.5\n"
          ]
        }
      ]
    },
    {
      "cell_type": "code",
      "source": [],
      "metadata": {
        "id": "RYICnAnwjU2p"
      },
      "execution_count": null,
      "outputs": []
    },
    {
      "cell_type": "code",
      "source": [],
      "metadata": {
        "id": "cF1HBIHdjVg8"
      },
      "execution_count": null,
      "outputs": []
    },
    {
      "cell_type": "code",
      "source": [],
      "metadata": {
        "id": "3NJmxZiijWuv"
      },
      "execution_count": null,
      "outputs": []
    }
  ]
}